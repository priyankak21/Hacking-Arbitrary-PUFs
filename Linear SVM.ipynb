{
 "cells": [
  {
   "cell_type": "code",
   "execution_count": 1,
   "metadata": {},
   "outputs": [],
   "source": [
    "import numpy as np\n",
    "from submit import my_map\n",
    "from submit import my_fit\n",
    "import time as tm"
   ]
  },
  {
   "cell_type": "code",
   "execution_count": 2,
   "metadata": {},
   "outputs": [],
   "source": [
    "Z_trn = np.loadtxt( \"secret_train.dat\" )\n",
    "Z_tst = np.loadtxt( \"secret_test.dat\" )\n",
    "\n",
    "n_trials = 5\n",
    "\n",
    "d_size = 0\n",
    "t_train = 0\n",
    "t_map = 0\n",
    "acc = 0"
   ]
  },
  {
   "cell_type": "code",
   "execution_count": 3,
   "metadata": {},
   "outputs": [],
   "source": [
    "for t in range( n_trials ):\n",
    "\ttic = tm.perf_counter()\n",
    "\tw, b = my_fit( Z_trn[:, :-1], Z_trn[:,-1] )\n",
    "\ttoc = tm.perf_counter()\n",
    "\tt_train += toc - tic\n",
    "\n",
    "\td_size += w.shape[0]\n",
    "\n",
    "\ttic = tm.perf_counter()\n",
    "\tfeat = my_map( Z_tst[:, :-1] )\n",
    "\ttoc = tm.perf_counter()\n",
    "\tt_map += toc - tic\n",
    "\n",
    "\tscores = feat.dot( w ) + b\n",
    "\tpred = np.zeros_like( scores )\n",
    "\tpred[scores > 0] = 1\n",
    "\tacc += np.average( Z_tst[ :, -1 ] == pred )"
   ]
  },
  {
   "cell_type": "code",
   "execution_count": 4,
   "metadata": {},
   "outputs": [
    {
     "name": "stdout",
     "output_type": "stream",
     "text": [
      "528.0 20.472150059998967 3.94870904000054 0.9919\n"
     ]
    }
   ],
   "source": [
    "d_size /= n_trials\n",
    "t_train /= n_trials\n",
    "t_map /= n_trials\n",
    "acc /= n_trials\n",
    "\n",
    "print( d_size, t_train, t_map, acc )"
   ]
  },
  {
   "cell_type": "code",
   "execution_count": 5,
   "metadata": {},
   "outputs": [],
   "source": [
    "w, b = my_fit( Z_trn[:, :-1], Z_trn[:,-1] )\n",
    "feat = my_map( Z_trn[:, :-1] )\n",
    "n_trials = 5\n",
    "\n",
    "d_size = 0\n",
    "t_train = 0\n",
    "t_map = 0\n",
    "acc = 0\n"
   ]
  },
  {
   "cell_type": "code",
   "execution_count": 6,
   "metadata": {},
   "outputs": [],
   "source": [
    "\n",
    "scores = feat.dot( w ) + b\n",
    "pred = np.zeros_like( scores )\n",
    "pred[scores > 0] = 1\n",
    "acc += np.average( Z_trn[ :, -1 ] == pred )"
   ]
  },
  {
   "cell_type": "code",
   "execution_count": 7,
   "metadata": {},
   "outputs": [
    {
     "name": "stdout",
     "output_type": "stream",
     "text": [
      "0.998625\n"
     ]
    }
   ],
   "source": [
    "print(acc)"
   ]
  }
 ],
 "metadata": {
  "kernelspec": {
   "display_name": "Python 3",
   "language": "python",
   "name": "python3"
  },
  "language_info": {
   "codemirror_mode": {
    "name": "ipython",
    "version": 3
   },
   "file_extension": ".py",
   "mimetype": "text/x-python",
   "name": "python",
   "nbconvert_exporter": "python",
   "pygments_lexer": "ipython3",
   "version": "3.12.2"
  }
 },
 "nbformat": 4,
 "nbformat_minor": 2
}
